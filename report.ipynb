{
 "cells": [
  {
   "cell_type": "markdown",
   "metadata": {},
   "source": [
    "# Navigation\n",
    "\n",
    "---\n",
    "\n",
    "In this notebook, you will learn how to use the Unity ML-Agents environment for the first project of the [Deep Reinforcement Learning Nanodegree](https://www.udacity.com/course/deep-reinforcement-learning-nanodegree--nd893).\n",
    "\n",
    "### 1. Start the Environment\n",
    "\n",
    "We begin by importing some necessary packages.  If the code cell below returns an error, please revisit the project instructions to double-check that you have installed [Unity ML-Agents](https://github.com/Unity-Technologies/ml-agents/blob/master/docs/Installation.md) and [NumPy](http://www.numpy.org/)."
   ]
  },
  {
   "cell_type": "code",
   "execution_count": 1,
   "metadata": {},
   "outputs": [],
   "source": [
    "from unityagents import UnityEnvironment\n",
    "import numpy as np"
   ]
  },
  {
   "cell_type": "markdown",
   "metadata": {},
   "source": [
    "Next, we will start the environment!  **_Before running the code cell below_**, change the `file_name` parameter to match the location of the Unity environment that you downloaded.\n",
    "\n",
    "- **Mac**: `\"path/to/Banana.app\"`\n",
    "- **Windows** (x86): `\"path/to/Banana_Windows_x86/Banana.exe\"`\n",
    "- **Windows** (x86_64): `\"path/to/Banana_Windows_x86_64/Banana.exe\"`\n",
    "- **Linux** (x86): `\"path/to/Banana_Linux/Banana.x86\"`\n",
    "- **Linux** (x86_64): `\"path/to/Banana_Linux/Banana.x86_64\"`\n",
    "- **Linux** (x86, headless): `\"path/to/Banana_Linux_NoVis/Banana.x86\"`\n",
    "- **Linux** (x86_64, headless): `\"path/to/Banana_Linux_NoVis/Banana.x86_64\"`\n",
    "\n",
    "For instance, if you are using a Mac, then you downloaded `Banana.app`.  If this file is in the same folder as the notebook, then the line below should appear as follows:\n",
    "```\n",
    "env = UnityEnvironment(file_name=\"Banana.app\")\n",
    "```"
   ]
  },
  {
   "cell_type": "code",
   "execution_count": 2,
   "metadata": {},
   "outputs": [
    {
     "name": "stderr",
     "output_type": "stream",
     "text": [
      "INFO:unityagents:\n",
      "'Academy' started successfully!\n",
      "Unity Academy name: Academy\n",
      "        Number of Brains: 1\n",
      "        Number of External Brains : 1\n",
      "        Lesson number : 0\n",
      "        Reset Parameters :\n",
      "\t\t\n",
      "Unity brain name: BananaBrain\n",
      "        Number of Visual Observations (per agent): 0\n",
      "        Vector Observation space type: continuous\n",
      "        Vector Observation space size (per agent): 37\n",
      "        Number of stacked Vector Observation: 1\n",
      "        Vector Action space type: discrete\n",
      "        Vector Action space size (per agent): 4\n",
      "        Vector Action descriptions: , , , \n"
     ]
    }
   ],
   "source": [
    "env = UnityEnvironment(file_name=\"./Banana_Windows_x86_64/Banana.exe\")"
   ]
  },
  {
   "cell_type": "markdown",
   "metadata": {},
   "source": [
    "Environments contain **_brains_** which are responsible for deciding the actions of their associated agents. Here we check for the first brain available, and set it as the default brain we will be controlling from Python."
   ]
  },
  {
   "cell_type": "code",
   "execution_count": 3,
   "metadata": {},
   "outputs": [],
   "source": [
    "# get the default brain\n",
    "brain_name = env.brain_names[0]\n",
    "brain = env.brains[brain_name]"
   ]
  },
  {
   "cell_type": "markdown",
   "metadata": {},
   "source": [
    "### 2. Examine the State and Action Spaces\n",
    "\n",
    "The simulation contains a single agent that navigates a large environment.  At each time step, it has four actions at its disposal:\n",
    "- `0` - walk forward \n",
    "- `1` - walk backward\n",
    "- `2` - turn left\n",
    "- `3` - turn right\n",
    "\n",
    "The state space has `37` dimensions and contains the agent's velocity, along with ray-based perception of objects around agent's forward direction.  A reward of `+1` is provided for collecting a yellow banana, and a reward of `-1` is provided for collecting a blue banana. \n",
    "\n",
    "Run the code cell below to print some information about the environment."
   ]
  },
  {
   "cell_type": "code",
   "execution_count": 4,
   "metadata": {},
   "outputs": [
    {
     "name": "stdout",
     "output_type": "stream",
     "text": [
      "Number of agents: 1\n",
      "Number of actions: 4\n",
      "States look like: [1.         0.         0.         0.         0.84408134 0.\n",
      " 0.         1.         0.         0.0748472  0.         1.\n",
      " 0.         0.         0.25755    1.         0.         0.\n",
      " 0.         0.74177343 0.         1.         0.         0.\n",
      " 0.25854847 0.         0.         1.         0.         0.09355672\n",
      " 0.         1.         0.         0.         0.31969345 0.\n",
      " 0.        ]\n",
      "States have length: 37\n"
     ]
    }
   ],
   "source": [
    "# reset the environment\n",
    "env_info = env.reset(train_mode=True)[brain_name]\n",
    "\n",
    "# number of agents in the environment\n",
    "print('Number of agents:', len(env_info.agents))\n",
    "\n",
    "# number of actions\n",
    "action_size = brain.vector_action_space_size\n",
    "print('Number of actions:', action_size)\n",
    "\n",
    "# examine the state space \n",
    "state = env_info.vector_observations[0]\n",
    "print('States look like:', state)\n",
    "state_size = len(state)\n",
    "print('States have length:', state_size)"
   ]
  },
  {
   "cell_type": "markdown",
   "metadata": {},
   "source": [
    "### 3. Take Random Actions in the Environment\n",
    "\n",
    "In the next code cell, you will learn how to use the Python API to control the agent and receive feedback from the environment.\n",
    "\n",
    "Once this cell is executed, you will watch the agent's performance, if it selects an action (uniformly) at random with each time step.  A window should pop up that allows you to observe the agent, as it moves through the environment.  \n",
    "\n",
    "Of course, as part of the project, you'll have to change the code so that the agent is able to use its experience to gradually choose better actions when interacting with the environment!"
   ]
  },
  {
   "cell_type": "code",
   "execution_count": 5,
   "metadata": {},
   "outputs": [
    {
     "name": "stdout",
     "output_type": "stream",
     "text": [
      "Score: 1.0\n"
     ]
    }
   ],
   "source": [
    "env_info = env.reset(train_mode=False)[brain_name] # reset the environment\n",
    "state = env_info.vector_observations[0]            # get the current state\n",
    "score = 0                                          # initialize the score\n",
    "while True:\n",
    "    action = np.random.randint(action_size)        # select an action\n",
    "    env_info = env.step(action)[brain_name]        # send the action to the environment\n",
    "    next_state = env_info.vector_observations[0]   # get the next state\n",
    "    reward = env_info.rewards[0]                   # get the reward\n",
    "    done = env_info.local_done[0]                  # see if episode has finished\n",
    "    score += reward                                # update the score\n",
    "    state = next_state                             # roll over the state to next time step\n",
    "    if done:                                       # exit loop if episode finished\n",
    "        break\n",
    "    \n",
    "print(\"Score: {}\".format(score))"
   ]
  },
  {
   "cell_type": "markdown",
   "metadata": {},
   "source": [
    "When finished, you can close the environment."
   ]
  },
  {
   "cell_type": "code",
   "execution_count": 6,
   "metadata": {},
   "outputs": [],
   "source": [
    "#env.close()"
   ]
  },
  {
   "cell_type": "markdown",
   "metadata": {},
   "source": [
    "### 4. It's Your Turn!\n",
    "\n",
    "Now it's your turn to train your own agent to solve the environment!  When training the environment, set `train_mode=True`, so that the line for resetting the environment looks like the following:\n",
    "```python\n",
    "env_info = env.reset(train_mode=True)[brain_name]\n",
    "```"
   ]
  },
  {
   "cell_type": "code",
   "execution_count": 7,
   "metadata": {},
   "outputs": [
    {
     "name": "stdout",
     "output_type": "stream",
     "text": [
      "cuda:0\n"
     ]
    }
   ],
   "source": [
    "from dqn_agent import agent\n",
    "from collections import deque\n",
    "import matplotlib.pyplot as plt\n",
    "import torch\n",
    "from itertools import count\n",
    "%matplotlib inline"
   ]
  },
  {
   "cell_type": "markdown",
   "metadata": {},
   "source": [
    "### Learning Algorithm\n",
    "\n",
    "#### DQN\n",
    "\n",
    "For this project I used a DQN to solve the environment. The algorithm works by having the agent act in the environment and collecting rewards. These experiences are then stored in a buffer and used at a later time to train a neural network. A neural network is used to estimate the Q-Values for all actions in a given state. The action is then either taken randomly to explore different actions/states or by selecting the action with the highest value. This exploration/exploitation is control by a decaying epsilon value.\n",
    "\n",
    "#### Hyperparameters\n",
    "\n",
    "<b>buffer_size</b>..100,000......The maximum size of the replay buffer.<br>\n",
    "<b>batch_size</b>............64......The number of samples taken from the replay buffer during traing.<br>\n",
    "<b>gamma</b>...............0.99......The discount rate for future rewards.<br>\n",
    "<b>tau</b>....................0.001......Used during soft_update to control how much of the local model is mixed into the target model.<br>\n",
    "<b>lr</b>.....................0.0005......The Learning Rate used during training.<br>\n",
    "<b>update_every</b>.........4......How many steps inbetween learning steps.<br>\n",
    "<b>eps_start</b>.............1.0......The starting epsilon value used for exploration/exploitation.<br>\n",
    "<b>decay</b>...............0.995......How much epsilon is decayed by after each time step.<br>\n",
    "<b>eps_min</b>.............0.01......The minimum value epsilon is decayed to.<br>\n",
    "\n",
    "#### Model Architecture\n",
    "\n",
    "Input Layer(Fully Connected Layer with a size of 37x256)<br>\n",
    "Relu Activation<br>\n",
    "Hidden Layer(Fully Connected Layer with a size of 256x128)<br>\n",
    "Relu Activation<br>\n",
    "Output Layer(Fully Connected Layer with a size of 128x4)"
   ]
  },
  {
   "cell_type": "code",
   "execution_count": 8,
   "metadata": {},
   "outputs": [],
   "source": [
    "def dqn(max_t=1000, eps_start=1.0, eps_min=0.01, decay=0.995):\n",
    "    \"\"\"Deep Q-Learning.\n",
    "    Params\n",
    "    ======\n",
    "        n_episodes (int): maximum number of training episodes\n",
    "        max_t (int): maximum number of timesteps per episode\n",
    "        eps_start (float): starting value of epsilon, for epsilon-greedy action selection\n",
    "        eps_end (float): minimum value of epsilon\n",
    "        decay (float): multiplicative factor (per episode) for decreasing epsilon\n",
    "    \"\"\"\n",
    "    scores = []                        #list containing scores from each episode\n",
    "    mov_avg = []                       #list containing the moving average of the scores\n",
    "    best_score = -np.inf               #best score so far\n",
    "    best_ep = 0                        #episode where best score occured\n",
    "    solved = False                     #whether the environment has been solved or not\n",
    "    goal = 13                          #goal for solving the environment\n",
    "    scores_window = deque(maxlen=100)  #last 100 scores\n",
    "    eps = eps_start                    #initialize epsilon\n",
    "    \n",
    "    for episode in count():\n",
    "        env_info = env.reset(train_mode=True)[brain_name] #reset the enviroment\n",
    "        state = env_info.vector_observations[0]           #get current state\n",
    "        score = 0\n",
    "        done = False\n",
    "        for t in range(max_t):\n",
    "            action = Agent.act(state, eps)\n",
    "            env_info = env.step([action])[brain_name] #act in the enviroment\n",
    "            next_state = env_info.vector_observations[0]\n",
    "            reward = env_info.rewards[0]\n",
    "            done = env_info.local_done[0]\n",
    "            Agent.step(state, action, reward, next_state, done)\n",
    "            state = next_state\n",
    "            score += reward\n",
    "            if done:\n",
    "                break\n",
    "        scores_window.append(score)\n",
    "        scores.append(score)\n",
    "        mov_avg.append(np.mean(scores_window))\n",
    "        eps = max(eps_min, (eps_start*decay**episode))\n",
    "        \n",
    "        if episode % 100 == 0:\n",
    "            print('\\rEpisode {}\\tAverage Score: {:.2f}'.format(episode, np.mean(scores_window)))\n",
    "        if mov_avg[-1] > goal:\n",
    "            if not solved:\n",
    "                print('\\nEnvironment solved in {:d} episodes!\\tAverage Score: {:.4f}'.format(episode, np.mean(scores_window)))\n",
    "                solved = True\n",
    "                torch.save(Agent.Qnetwork_local.state_dict(), 'weights.pth')\n",
    "            \n",
    "            elif mov_avg[-1] > best_score:\n",
    "                print('Best episode so far!\\\n",
    "                \\nEpisode {}\\tAverage Score: {:.4f}'.format(episode, np.mean(scores_window)))\n",
    "                best_ep = episode\n",
    "                best_score = mov_avg[-1]\n",
    "                torch.save(Agent.Qnetwork_local.state_dict(), 'weights.pth')\n",
    "                \n",
    "            elif (episode - best_ep) >= 200:\n",
    "                print('Training stopped. Best score not matched or exceeded for 200 episodes')\n",
    "                break\n",
    "                \n",
    "            else:\n",
    "                continue\n",
    "                \n",
    "    return scores, mov_avg"
   ]
  },
  {
   "cell_type": "code",
   "execution_count": 9,
   "metadata": {},
   "outputs": [
    {
     "name": "stdout",
     "output_type": "stream",
     "text": [
      "Episode 0\tAverage Score: -1.00\n",
      "Episode 100\tAverage Score: 0.83\n",
      "Episode 200\tAverage Score: 3.29\n",
      "Episode 300\tAverage Score: 6.49\n",
      "Episode 400\tAverage Score: 10.63\n",
      "Episode 500\tAverage Score: 12.50\n",
      "\n",
      "Environment solved in 526 episodes!\tAverage Score: 13.0600\n",
      "Best episode so far!                \n",
      "Episode 527\tAverage Score: 13.1500\n",
      "Best episode so far!                \n",
      "Episode 528\tAverage Score: 13.1800\n",
      "Best episode so far!                \n",
      "Episode 532\tAverage Score: 13.2800\n",
      "Best episode so far!                \n",
      "Episode 533\tAverage Score: 13.2900\n",
      "Best episode so far!                \n",
      "Episode 534\tAverage Score: 13.3000\n",
      "Best episode so far!                \n",
      "Episode 535\tAverage Score: 13.4200\n",
      "Best episode so far!                \n",
      "Episode 537\tAverage Score: 13.4700\n",
      "Best episode so far!                \n",
      "Episode 564\tAverage Score: 13.4800\n",
      "Best episode so far!                \n",
      "Episode 565\tAverage Score: 13.4900\n",
      "Best episode so far!                \n",
      "Episode 569\tAverage Score: 13.5100\n",
      "Best episode so far!                \n",
      "Episode 572\tAverage Score: 13.5600\n",
      "Best episode so far!                \n",
      "Episode 573\tAverage Score: 13.6000\n",
      "Best episode so far!                \n",
      "Episode 574\tAverage Score: 13.6400\n",
      "Best episode so far!                \n",
      "Episode 575\tAverage Score: 13.7000\n",
      "Best episode so far!                \n",
      "Episode 576\tAverage Score: 13.7400\n",
      "Best episode so far!                \n",
      "Episode 577\tAverage Score: 13.7800\n",
      "Best episode so far!                \n",
      "Episode 578\tAverage Score: 13.8200\n",
      "Best episode so far!                \n",
      "Episode 579\tAverage Score: 13.8900\n",
      "Best episode so far!                \n",
      "Episode 585\tAverage Score: 13.9200\n",
      "Best episode so far!                \n",
      "Episode 597\tAverage Score: 13.9400\n",
      "Best episode so far!                \n",
      "Episode 598\tAverage Score: 13.9700\n",
      "Episode 600\tAverage Score: 14.02\n",
      "Best episode so far!                \n",
      "Episode 600\tAverage Score: 14.0200\n",
      "Best episode so far!                \n",
      "Episode 601\tAverage Score: 14.0600\n",
      "Best episode so far!                \n",
      "Episode 611\tAverage Score: 14.1200\n",
      "Best episode so far!                \n",
      "Episode 612\tAverage Score: 14.1300\n",
      "Best episode so far!                \n",
      "Episode 613\tAverage Score: 14.2200\n",
      "Best episode so far!                \n",
      "Episode 626\tAverage Score: 14.2300\n",
      "Best episode so far!                \n",
      "Episode 628\tAverage Score: 14.3000\n",
      "Best episode so far!                \n",
      "Episode 629\tAverage Score: 14.4000\n",
      "Best episode so far!                \n",
      "Episode 631\tAverage Score: 14.4700\n",
      "Best episode so far!                \n",
      "Episode 633\tAverage Score: 14.5100\n",
      "Best episode so far!                \n",
      "Episode 634\tAverage Score: 14.5700\n",
      "Best episode so far!                \n",
      "Episode 647\tAverage Score: 14.6100\n",
      "Best episode so far!                \n",
      "Episode 648\tAverage Score: 14.6500\n",
      "Best episode so far!                \n",
      "Episode 652\tAverage Score: 14.6700\n",
      "Episode 700\tAverage Score: 14.48\n",
      "Best episode so far!                \n",
      "Episode 708\tAverage Score: 14.7500\n",
      "Best episode so far!                \n",
      "Episode 772\tAverage Score: 14.8300\n",
      "Best episode so far!                \n",
      "Episode 773\tAverage Score: 14.9200\n",
      "Best episode so far!                \n",
      "Episode 777\tAverage Score: 14.9300\n",
      "Best episode so far!                \n",
      "Episode 778\tAverage Score: 14.9600\n",
      "Best episode so far!                \n",
      "Episode 779\tAverage Score: 15.0200\n",
      "Best episode so far!                \n",
      "Episode 780\tAverage Score: 15.0300\n",
      "Best episode so far!                \n",
      "Episode 781\tAverage Score: 15.1100\n",
      "Best episode so far!                \n",
      "Episode 782\tAverage Score: 15.1600\n",
      "Best episode so far!                \n",
      "Episode 791\tAverage Score: 15.2100\n",
      "Best episode so far!                \n",
      "Episode 792\tAverage Score: 15.2400\n",
      "Best episode so far!                \n",
      "Episode 796\tAverage Score: 15.3100\n",
      "Best episode so far!                \n",
      "Episode 797\tAverage Score: 15.3300\n",
      "Best episode so far!                \n",
      "Episode 798\tAverage Score: 15.3400\n",
      "Episode 800\tAverage Score: 15.25\n",
      "Best episode so far!                \n",
      "Episode 827\tAverage Score: 15.3800\n",
      "Best episode so far!                \n",
      "Episode 854\tAverage Score: 15.4100\n",
      "Best episode so far!                \n",
      "Episode 855\tAverage Score: 15.4600\n",
      "Best episode so far!                \n",
      "Episode 856\tAverage Score: 15.5800\n",
      "Best episode so far!                \n",
      "Episode 886\tAverage Score: 15.6000\n",
      "Best episode so far!                \n",
      "Episode 888\tAverage Score: 15.6400\n",
      "Best episode so far!                \n",
      "Episode 889\tAverage Score: 15.7000\n",
      "Best episode so far!                \n",
      "Episode 891\tAverage Score: 15.7100\n",
      "Best episode so far!                \n",
      "Episode 892\tAverage Score: 15.7400\n",
      "Best episode so far!                \n",
      "Episode 893\tAverage Score: 15.8600\n",
      "Episode 900\tAverage Score: 15.47\n",
      "Episode 1000\tAverage Score: 15.27\n",
      "Training stopped. Best score not matched or exceeded for 200 episodes\n"
     ]
    }
   ],
   "source": [
    "Agent = agent(state_size, action_size, seed=123)\n",
    "scores, avg = dqn()"
   ]
  },
  {
   "cell_type": "code",
   "execution_count": 15,
   "metadata": {},
   "outputs": [
    {
     "data": {
      "image/png": "[encoded data removed]",
      "text/plain": [
       "<Figure size 432x288 with 1 Axes>"
      ]
     },
     "metadata": {
      "needs_background": "light"
     },
     "output_type": "display_data"
    }
   ],
   "source": [
    "# plot the scores\n",
    "fig = plt.figure()\n",
    "plt.subplot()\n",
    "plt.plot(np.arange(1, len(scores)+1), scores)\n",
    "plt.plot(np.arange(1, len(scores)+1), avg)\n",
    "plt.ylabel('Score')\n",
    "plt.xlabel('Episode #')\n",
    "plt.show()"
   ]
  },
  {
   "cell_type": "code",
   "execution_count": 11,
   "metadata": {},
   "outputs": [
    {
     "name": "stdout",
     "output_type": "stream",
     "text": [
      "Score: 18.0\n"
     ]
    }
   ],
   "source": [
    "# load the weights from file\n",
    "Agent = agent(state_size, action_size, seed=123)\n",
    "Agent.Qnetwork_local.load_state_dict(torch.load('weights.pth'))\n",
    "env_info = env.reset(train_mode=False)[brain_name] # reset the environment\n",
    "state = env_info.vector_observations[0]            # get the current state\n",
    "score = 0                                          # initialize the score\n",
    "\n",
    "while True:\n",
    "    action = Agent.act(state)\n",
    "    env_info = env.step([action])[brain_name]        # send the action to the environment\n",
    "    next_state = env_info.vector_observations[0]   # get the next state\n",
    "    reward = env_info.rewards[0]                   # get the reward\n",
    "    done = env_info.local_done[0]                  # see if episode has finished\n",
    "    score += reward                                # update the score\n",
    "    state = next_state                             # roll over the state to next time step\n",
    "    if done:                                       # exit loop if episode finished\n",
    "        break\n",
    "    \n",
    "print(\"Score: {}\".format(score))"
   ]
  },
  {
   "cell_type": "code",
   "execution_count": 12,
   "metadata": {},
   "outputs": [],
   "source": [
    "env.close()"
   ]
  },
  {
   "cell_type": "markdown",
   "metadata": {},
   "source": [
    "### Future Improvements\n",
    "\n",
    "To further improve the agent in the future I would like to improve the Replay Buffer to have Prioritized Experiences.\n",
    "The hope that it should help the agent learn faster by using information rich experiences more often."
   ]
  },
  {
   "cell_type": "code",
   "execution_count": null,
   "metadata": {},
   "outputs": [],
   "source": []
  }
 ],
 "metadata": {
  "kernelspec": {
   "display_name": "Python 3",
   "language": "python",
   "name": "python3"
  },
  "language_info": {
   "codemirror_mode": {
    "name": "ipython",
    "version": 3
   },
   "file_extension": ".py",
   "mimetype": "text/x-python",
   "name": "python",
   "nbconvert_exporter": "python",
   "pygments_lexer": "ipython3",
   "version": "3.6.7"
  }
 },
 "nbformat": 4,
 "nbformat_minor": 2
}
